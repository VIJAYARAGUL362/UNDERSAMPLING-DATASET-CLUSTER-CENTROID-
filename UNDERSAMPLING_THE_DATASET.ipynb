{
  "nbformat": 4,
  "nbformat_minor": 0,
  "metadata": {
    "colab": {
      "provenance": [],
      "authorship_tag": "ABX9TyNf40zU9qKbsZRk7LpUHQm8",
      "include_colab_link": true
    },
    "kernelspec": {
      "name": "python3",
      "display_name": "Python 3"
    },
    "language_info": {
      "name": "python"
    }
  },
  "cells": [
    {
      "cell_type": "markdown",
      "metadata": {
        "id": "view-in-github",
        "colab_type": "text"
      },
      "source": [
        "<a href=\"https://colab.research.google.com/github/VIJAYARAGUL362/UNDERSAMPLING-DATASET-CLUSTER-CENTROID-/blob/main/UNDERSAMPLING_THE_DATASET.ipynb\" target=\"_parent\"><img src=\"https://colab.research.google.com/assets/colab-badge.svg\" alt=\"Open In Colab\"/></a>"
      ]
    },
    {
      "cell_type": "markdown",
      "source": [
        "IMPORTING THE LIBRARIES"
      ],
      "metadata": {
        "id": "28eURb9Uqi_A"
      }
    },
    {
      "cell_type": "code",
      "execution_count": 46,
      "metadata": {
        "id": "ECaDhNQYqN39"
      },
      "outputs": [],
      "source": [
        "from collections import Counter\n",
        "import pandas as pd\n",
        "import matplotlib.pyplot as plt\n",
        "import seaborn as sns"
      ]
    },
    {
      "cell_type": "markdown",
      "source": [
        "CREATING THE DATASET"
      ],
      "metadata": {
        "id": "m7DMEAmoqnL5"
      }
    },
    {
      "cell_type": "code",
      "source": [
        "Dataset = {\n",
        "    'ANIMAL':[0,0,0,1,0],  # 0 means DOG and 1 means CAT\n",
        "    'Height': [1 , 2, 2.5 ,0.6 , 1.5],\n",
        "    'Weight': [5 , 10 , 15 , 2.5 , 7]\n",
        "    }\n",
        "\n",
        "dataframe = pd.DataFrame(Dataset)\n",
        "data = dataframe['ANIMAL']\n",
        "\n",
        "x=dataframe.drop('ANIMAL', axis=1) # SEPERATING INDEPENDENT VARIABLE\n",
        "y=dataframe['ANIMAL']  # SEPERATING DEPENDENT VARIABLE\n",
        "print(x)\n",
        "print(y)\n"
      ],
      "metadata": {
        "id": "QOgLOBHFqqS5",
        "colab": {
          "base_uri": "https://localhost:8080/"
        },
        "outputId": "d868330f-8a8f-4a7b-b209-88d49329e188"
      },
      "execution_count": 47,
      "outputs": [
        {
          "output_type": "stream",
          "name": "stdout",
          "text": [
            "   Height  Weight\n",
            "0     1.0     5.0\n",
            "1     2.0    10.0\n",
            "2     2.5    15.0\n",
            "3     0.6     2.5\n",
            "4     1.5     7.0\n",
            "0    0\n",
            "1    0\n",
            "2    0\n",
            "3    1\n",
            "4    0\n",
            "Name: ANIMAL, dtype: int64\n"
          ]
        }
      ]
    },
    {
      "cell_type": "markdown",
      "source": [
        "CHECKING WHETHER THE DATASET IS BALANCED OR UNBALANCED"
      ],
      "metadata": {
        "id": "EPg_LcGDrlOs"
      }
    },
    {
      "cell_type": "code",
      "source": [
        "count = Counter(dataframe['ANIMAL'])\n",
        "count"
      ],
      "metadata": {
        "colab": {
          "base_uri": "https://localhost:8080/"
        },
        "id": "qUNt6Gyhrr6n",
        "outputId": "1da9162c-36a5-4dc2-b1a3-2b800fcd4b99"
      },
      "execution_count": 48,
      "outputs": [
        {
          "output_type": "execute_result",
          "data": {
            "text/plain": [
              "Counter({0: 4, 1: 1})"
            ]
          },
          "metadata": {},
          "execution_count": 48
        }
      ]
    },
    {
      "cell_type": "markdown",
      "source": [
        "VISUALIZING THE IMBALANCED DATASET"
      ],
      "metadata": {
        "id": "yrwNkcNrr3GV"
      }
    },
    {
      "cell_type": "code",
      "source": [
        "sns.scatterplot(x='Height', y='Weight', hue='ANIMAL', data=dataframe, s=50) # s controls marker size\n",
        "\n",
        "plt.xlabel(\"Height\")\n",
        "plt.ylabel(\"Weight\")\n",
        "plt.title(\"Height vs. Weight by Animal\")\n",
        "plt.grid(True, alpha=0.7)  # Optional: Add a grid\n",
        "plt.show()"
      ],
      "metadata": {
        "colab": {
          "base_uri": "https://localhost:8080/",
          "height": 472
        },
        "id": "bRBYmQ_Br6xH",
        "outputId": "7da081b2-4046-4b06-aa37-46fa82059c14"
      },
      "execution_count": 49,
      "outputs": [
        {
          "output_type": "display_data",
          "data": {
            "text/plain": [
              "<Figure size 640x480 with 1 Axes>"
            ],
            "image/png": "[encoded data removed]"
          },
          "metadata": {}
        }
      ]
    },
    {
      "cell_type": "markdown",
      "source": [
        " CLUSTER CENTROID SAMPLING"
      ],
      "metadata": {
        "id": "3eS28g930gBt"
      }
    },
    {
      "cell_type": "code",
      "source": [
        "from imblearn.under_sampling import ClusterCentroids\n",
        "cc = ClusterCentroids()\n",
        "x_resampled,y_resampled = cc.fit_resample(x,y)"
      ],
      "metadata": {
        "id": "Bil_8Azo06G9"
      },
      "execution_count": 50,
      "outputs": []
    },
    {
      "cell_type": "markdown",
      "source": [
        "AFTER RESAMPLING"
      ],
      "metadata": {
        "id": "Iw3PWLwrCScO"
      }
    },
    {
      "cell_type": "code",
      "source": [
        "print(x_resampled)\n",
        "print(y_resampled)"
      ],
      "metadata": {
        "colab": {
          "base_uri": "https://localhost:8080/"
        },
        "id": "0tZge8XnANRW",
        "outputId": "0d3bfaba-eb7d-41bb-f344-ccbf73b692a4"
      },
      "execution_count": 51,
      "outputs": [
        {
          "output_type": "stream",
          "name": "stdout",
          "text": [
            "   Height  Weight\n",
            "0    1.75    9.25\n",
            "1    0.60    2.50\n",
            "0    0\n",
            "1    1\n",
            "Name: ANIMAL, dtype: int64\n"
          ]
        }
      ]
    },
    {
      "cell_type": "markdown",
      "source": [
        "VISUALIZING THE  RESAMPLED DATASET"
      ],
      "metadata": {
        "id": "tLZpWeXBCcHq"
      }
    },
    {
      "cell_type": "code",
      "source": [
        "sns.scatterplot(x='Height', y='Weight', data=x_resampled,hue=y_resampled, s=50) # s controls marker size\n",
        "\n",
        "plt.xlabel(\"Height\")\n",
        "plt.ylabel(\"Weight\")\n",
        "plt.title(\"Height vs. Weight by Animal\")\n",
        "plt.legend(labelcolor=[\"blue\",\"orange\"])\n",
        "plt.grid(True, alpha=0.7)  # Optional: Add a grid\n",
        "plt.show()"
      ],
      "metadata": {
        "colab": {
          "base_uri": "https://localhost:8080/",
          "height": 472
        },
        "id": "JBrb69UlCg7P",
        "outputId": "f611e935-5a04-4150-a1fe-0011d07d88fb"
      },
      "execution_count": 52,
      "outputs": [
        {
          "output_type": "display_data",
          "data": {
            "text/plain": [
              "<Figure size 640x480 with 1 Axes>"
            ],
            "image/png": "[encoded data removed]"
          },
          "metadata": {}
        }
      ]
    }
  ]
}